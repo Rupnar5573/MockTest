{
 "cells": [
  {
   "cell_type": "code",
   "execution_count": 3,
   "id": "e7a153c4-7373-4a96-b2b4-ea869139d428",
   "metadata": {},
   "outputs": [
    {
     "data": {
      "text/plain": [
       "0"
      ]
     },
     "execution_count": 3,
     "metadata": {},
     "output_type": "execute_result"
    }
   ],
   "source": [
    "\"\"\"Given a string s, find the first non-repeating character in it and return its index. If it does not exist, return -1.\n",
    "\n",
    "Example 1:\n",
    "Input: s = \"leetcode\"\n",
    "Output: 0\n",
    "\n",
    "Example 2:\n",
    "Input: s = \"loveleetcode\"\n",
    "Output: 2\n",
    "\n",
    "Example 3:\n",
    "Input: s = \"aabb\"\n",
    "Output: -1\n",
    "\n",
    "Constraints:\n",
    "a. 1 <= s.length <= 10^5\n",
    "b. s consists of only lowercase English letters.\"\"\"\n",
    "\n",
    "\n",
    "\n",
    "def first_non_repeating_character(s):\n",
    " \n",
    "  char_counts = {}\n",
    "  for i in range(len(s)):\n",
    "    if s[i] not in char_counts:\n",
    "      char_counts[s[i]] = 0\n",
    "    char_counts[s[i]] += 1\n",
    "\n",
    "  for i in range(len(s)):\n",
    "    if char_counts[s[i]] == 1:\n",
    "      return i\n",
    "\n",
    "  return -1\n",
    "s = \"leetcode\"\n",
    "\n",
    "first_non_repeating_character(s)\n"
   ]
  },
  {
   "cell_type": "code",
   "execution_count": null,
   "id": "9f5e3ccd-59b3-48e1-9e86-f15e29cc165a",
   "metadata": {},
   "outputs": [],
   "source": []
  },
  {
   "cell_type": "code",
   "execution_count": null,
   "id": "273f1482-5ee2-4e11-9f1c-b71ddda47323",
   "metadata": {},
   "outputs": [],
   "source": []
  }
 ],
 "metadata": {
  "kernelspec": {
   "display_name": "Python 3 (ipykernel)",
   "language": "python",
   "name": "python3"
  },
  "language_info": {
   "codemirror_mode": {
    "name": "ipython",
    "version": 3
   },
   "file_extension": ".py",
   "mimetype": "text/x-python",
   "name": "python",
   "nbconvert_exporter": "python",
   "pygments_lexer": "ipython3",
   "version": "3.10.8"
  }
 },
 "nbformat": 4,
 "nbformat_minor": 5
}
