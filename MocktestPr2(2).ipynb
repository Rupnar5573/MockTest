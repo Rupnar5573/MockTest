{
 "cells": [
  {
   "cell_type": "code",
   "execution_count": 3,
   "id": "04fccbc5-46b7-4de6-9341-3278cda8d13f",
   "metadata": {},
   "outputs": [
    {
     "name": "stdout",
     "output_type": "stream",
     "text": [
      "Execution time: 2.002 seconds\n"
     ]
    }
   ],
   "source": [
    "\"\"\"\n",
    "18. Implement a decorator function called ‘timer’ that measures the execution time of a function. The ‘timer’ decorator should print the time taken by the decorated function to execute. Use the ‘time’ module in Python to calculate the execution time.\n",
    "\n",
    "Example:\n",
    "\n",
    "import time\n",
    "\n",
    "@timer\n",
    "def my_function():\n",
    "    # Function code goes here\n",
    "    time.sleep(2)\n",
    "\n",
    "my_function()\n",
    "\n",
    "Output:\n",
    "\"Execution time: 2.00123 seconds\"\n",
    "\n",
    "\"\"\"\n",
    "import time\n",
    "\n",
    "def timer(func):\n",
    "  \n",
    "\n",
    "  def wrapper(*args, **kwargs):\n",
    "    start_time = time.time()\n",
    "    result = func(*args, **kwargs)\n",
    "    end_time = time.time()\n",
    "    execution_time = end_time - start_time\n",
    "    print(f\"Execution time: {execution_time:.3f} seconds\")\n",
    "    return result\n",
    "\n",
    "  return wrapper\n",
    "\n",
    "\n",
    "@timer\n",
    "def my_function():\n",
    "  \"\"\"A function that sleeps for 2 seconds.\"\"\"\n",
    "  time.sleep(2)\n",
    "\n",
    "\n",
    "if __name__ == \"__main__\":\n",
    "  my_function()\n"
   ]
  },
  {
   "cell_type": "code",
   "execution_count": null,
   "id": "22570061-534f-4f9e-bb27-dc73f6513733",
   "metadata": {},
   "outputs": [],
   "source": []
  }
 ],
 "metadata": {
  "kernelspec": {
   "display_name": "Python 3 (ipykernel)",
   "language": "python",
   "name": "python3"
  },
  "language_info": {
   "codemirror_mode": {
    "name": "ipython",
    "version": 3
   },
   "file_extension": ".py",
   "mimetype": "text/x-python",
   "name": "python",
   "nbconvert_exporter": "python",
   "pygments_lexer": "ipython3",
   "version": "3.10.8"
  }
 },
 "nbformat": 4,
 "nbformat_minor": 5
}
